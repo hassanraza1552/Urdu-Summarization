{
 "cells": [
  {
   "cell_type": "code",
   "execution_count": 1,
   "id": "17e58717",
   "metadata": {},
   "outputs": [
    {
     "name": "stdout",
     "output_type": "stream",
     "text": [
      "Populating the interactive namespace from numpy and matplotlib\n"
     ]
    }
   ],
   "source": [
    "%pylab inline\n",
    "import numpy as np\n",
    "import pandas as pd\n"
   ]
  },
  {
   "cell_type": "code",
   "execution_count": 2,
   "id": "48fbfef8",
   "metadata": {},
   "outputs": [],
   "source": [
    "import os\n",
    "filenames=os.listdir(\"Trans\")"
   ]
  },
  {
   "cell_type": "code",
   "execution_count": 3,
   "id": "163932cf",
   "metadata": {},
   "outputs": [],
   "source": [
    "bigData=pd.DataFrame()\n",
    "for x in filenames:\n",
    "    d=pd.read_csv(\"Trans/\"+x)\n",
    "    bigData = bigData.append(d, ignore_index=True)\n",
    "    \n",
    "    "
   ]
  },
  {
   "cell_type": "code",
   "execution_count": 4,
   "id": "2e34bcc8",
   "metadata": {},
   "outputs": [],
   "source": [
    "bigData.to_csv(\"AllDataV2.csv\")"
   ]
  },
  {
   "cell_type": "code",
   "execution_count": 14,
   "id": "9ddd855c",
   "metadata": {},
   "outputs": [
    {
     "data": {
      "text/html": [
       "<div>\n",
       "<style scoped>\n",
       "    .dataframe tbody tr th:only-of-type {\n",
       "        vertical-align: middle;\n",
       "    }\n",
       "\n",
       "    .dataframe tbody tr th {\n",
       "        vertical-align: top;\n",
       "    }\n",
       "\n",
       "    .dataframe thead th {\n",
       "        text-align: right;\n",
       "    }\n",
       "</style>\n",
       "<table border=\"1\" class=\"dataframe\">\n",
       "  <thead>\n",
       "    <tr style=\"text-align: right;\">\n",
       "      <th></th>\n",
       "      <th>SummaryEng</th>\n",
       "      <th>SummaryUr</th>\n",
       "      <th>TextEng</th>\n",
       "      <th>TextUr</th>\n",
       "    </tr>\n",
       "  </thead>\n",
       "  <tbody>\n",
       "    <tr>\n",
       "      <th>count</th>\n",
       "      <td>4386</td>\n",
       "      <td>4386</td>\n",
       "      <td>4386</td>\n",
       "      <td>4386</td>\n",
       "    </tr>\n",
       "    <tr>\n",
       "      <th>unique</th>\n",
       "      <td>4365</td>\n",
       "      <td>4365</td>\n",
       "      <td>4378</td>\n",
       "      <td>4378</td>\n",
       "    </tr>\n",
       "    <tr>\n",
       "      <th>top</th>\n",
       "      <td>This page includes the show Transcript and th...</td>\n",
       "      <td>اس صفحے میں شو ٹرانسکرپٹ اور ڈیلی نصاب شامل ہے...</td>\n",
       "      <td>JERUSALEM LRB CNN RRB German Chancellor Angela...</td>\n",
       "      <td>ایل آر بی سی این این آر آر بی شاعر ڈرامہ نگار ...</td>\n",
       "    </tr>\n",
       "    <tr>\n",
       "      <th>freq</th>\n",
       "      <td>8</td>\n",
       "      <td>8</td>\n",
       "      <td>2</td>\n",
       "      <td>2</td>\n",
       "    </tr>\n",
       "  </tbody>\n",
       "</table>\n",
       "</div>"
      ],
      "text/plain": [
       "                                               SummaryEng  \\\n",
       "count                                                4386   \n",
       "unique                                               4365   \n",
       "top      This page includes the show Transcript and th...   \n",
       "freq                                                    8   \n",
       "\n",
       "                                                SummaryUr  \\\n",
       "count                                                4386   \n",
       "unique                                               4365   \n",
       "top     اس صفحے میں شو ٹرانسکرپٹ اور ڈیلی نصاب شامل ہے...   \n",
       "freq                                                    8   \n",
       "\n",
       "                                                  TextEng  \\\n",
       "count                                                4386   \n",
       "unique                                               4378   \n",
       "top     JERUSALEM LRB CNN RRB German Chancellor Angela...   \n",
       "freq                                                    2   \n",
       "\n",
       "                                                   TextUr  \n",
       "count                                                4386  \n",
       "unique                                               4378  \n",
       "top     ایل آر بی سی این این آر آر بی شاعر ڈرامہ نگار ...  \n",
       "freq                                                    2  "
      ]
     },
     "execution_count": 14,
     "metadata": {},
     "output_type": "execute_result"
    }
   ],
   "source": [
    "bigData.describe()"
   ]
  },
  {
   "cell_type": "code",
   "execution_count": 15,
   "id": "be0b203f",
   "metadata": {},
   "outputs": [
    {
     "data": {
      "text/html": [
       "<div>\n",
       "<style scoped>\n",
       "    .dataframe tbody tr th:only-of-type {\n",
       "        vertical-align: middle;\n",
       "    }\n",
       "\n",
       "    .dataframe tbody tr th {\n",
       "        vertical-align: top;\n",
       "    }\n",
       "\n",
       "    .dataframe thead th {\n",
       "        text-align: right;\n",
       "    }\n",
       "</style>\n",
       "<table border=\"1\" class=\"dataframe\">\n",
       "  <thead>\n",
       "    <tr style=\"text-align: right;\">\n",
       "      <th></th>\n",
       "      <th>SummaryEng</th>\n",
       "      <th>SummaryUr</th>\n",
       "      <th>TextEng</th>\n",
       "      <th>TextUr</th>\n",
       "    </tr>\n",
       "  </thead>\n",
       "  <tbody>\n",
       "    <tr>\n",
       "      <th>0</th>\n",
       "      <td>Scandal actress Kerry Washington to star as A...</td>\n",
       "      <td>سکینڈل اداکارہ کیری واشنگٹن HBO فلم ہل میں انی...</td>\n",
       "      <td>LRB CNN RRB Kerry Washington is headed for HB...</td>\n",
       "      <td>ایل آر بی سی این این آر آر بی کیری واشنگٹن ایچ...</td>\n",
       "    </tr>\n",
       "    <tr>\n",
       "      <th>1</th>\n",
       "      <td>NEW Up to 123 others were wounded officials s...</td>\n",
       "      <td>123 افراد زخمی ہوئے ہیں</td>\n",
       "      <td>Moscow Russia LRB CNN RRB A car bomb exploded ...</td>\n",
       "      <td>ماسکو روس LRB CNN RRB روسی جمہوریہ شمالی اوسیت...</td>\n",
       "    </tr>\n",
       "    <tr>\n",
       "      <th>2</th>\n",
       "      <td>Disney will distribute DreamWorks live action...</td>\n",
       "      <td>ڈزنی ڈریم ورکس کی لائیو ایکشن فلمیں تقسیم کرے ...</td>\n",
       "      <td>LOS ANGELES California LRB CNN RRB Walt Disney...</td>\n",
       "      <td>لاس اینجلس کیلیفورنیا ایل آر بی سی این این آر ...</td>\n",
       "    </tr>\n",
       "    <tr>\n",
       "      <th>3</th>\n",
       "      <td>Attorney says Jack Klugman died at home with ...</td>\n",
       "      <td>اٹارنی کا کہنا ہے کہ جیک کلوگ مین اپنی بیوی کے...</td>\n",
       "      <td>LRB CNN RRB Jack Klugman best known as messy ...</td>\n",
       "      <td>ایل آر بی سی این این آر آر بی جیک کلوگ مین جو ...</td>\n",
       "    </tr>\n",
       "    <tr>\n",
       "      <th>4</th>\n",
       "      <td>NEW Fukushima plant not damaged by Saturday q...</td>\n",
       "      <td>نئے فوکوشیما پلانٹ کو ہفتہ کے زلزلے سے نقصان ن...</td>\n",
       "      <td>Tokyo LRB CNN RRB A 6 4 magnitude earthquake s...</td>\n",
       "      <td>امریکی جیولوجیکل سروے کے مطابق ٹوکیو LRB CNN R...</td>\n",
       "    </tr>\n",
       "  </tbody>\n",
       "</table>\n",
       "</div>"
      ],
      "text/plain": [
       "                                          SummaryEng  \\\n",
       "0   Scandal actress Kerry Washington to star as A...   \n",
       "1   NEW Up to 123 others were wounded officials s...   \n",
       "2   Disney will distribute DreamWorks live action...   \n",
       "3   Attorney says Jack Klugman died at home with ...   \n",
       "4   NEW Fukushima plant not damaged by Saturday q...   \n",
       "\n",
       "                                           SummaryUr  \\\n",
       "0  سکینڈل اداکارہ کیری واشنگٹن HBO فلم ہل میں انی...   \n",
       "1                            123 افراد زخمی ہوئے ہیں   \n",
       "2  ڈزنی ڈریم ورکس کی لائیو ایکشن فلمیں تقسیم کرے ...   \n",
       "3  اٹارنی کا کہنا ہے کہ جیک کلوگ مین اپنی بیوی کے...   \n",
       "4  نئے فوکوشیما پلانٹ کو ہفتہ کے زلزلے سے نقصان ن...   \n",
       "\n",
       "                                             TextEng  \\\n",
       "0   LRB CNN RRB Kerry Washington is headed for HB...   \n",
       "1  Moscow Russia LRB CNN RRB A car bomb exploded ...   \n",
       "2  LOS ANGELES California LRB CNN RRB Walt Disney...   \n",
       "3   LRB CNN RRB Jack Klugman best known as messy ...   \n",
       "4  Tokyo LRB CNN RRB A 6 4 magnitude earthquake s...   \n",
       "\n",
       "                                              TextUr  \n",
       "0  ایل آر بی سی این این آر آر بی کیری واشنگٹن ایچ...  \n",
       "1  ماسکو روس LRB CNN RRB روسی جمہوریہ شمالی اوسیت...  \n",
       "2  لاس اینجلس کیلیفورنیا ایل آر بی سی این این آر ...  \n",
       "3  ایل آر بی سی این این آر آر بی جیک کلوگ مین جو ...  \n",
       "4  امریکی جیولوجیکل سروے کے مطابق ٹوکیو LRB CNN R...  "
      ]
     },
     "execution_count": 15,
     "metadata": {},
     "output_type": "execute_result"
    }
   ],
   "source": [
    "bigData.head()"
   ]
  },
  {
   "cell_type": "markdown",
   "id": "5a7292f4",
   "metadata": {},
   "source": [
    "# DATA READING"
   ]
  },
  {
   "cell_type": "code",
   "execution_count": 2,
   "id": "b107dbde",
   "metadata": {},
   "outputs": [],
   "source": [
    "data=pd.read_csv(\"AllDataV2.csv\")"
   ]
  },
  {
   "cell_type": "code",
   "execution_count": 5,
   "id": "e762ab9a",
   "metadata": {},
   "outputs": [
    {
     "data": {
      "text/plain": [
       "Index(['Unnamed: 0', 'SummaryEng', 'SummaryUr', 'TextEng', 'TextUr'], dtype='object')"
      ]
     },
     "execution_count": 5,
     "metadata": {},
     "output_type": "execute_result"
    }
   ],
   "source": [
    "data.columns"
   ]
  },
  {
   "cell_type": "code",
   "execution_count": 7,
   "id": "4ebd921f",
   "metadata": {},
   "outputs": [],
   "source": [
    "urduData=data.drop(columns=['SummaryEng','TextEng'])"
   ]
  },
  {
   "cell_type": "code",
   "execution_count": 9,
   "id": "da25b57b",
   "metadata": {},
   "outputs": [
    {
     "data": {
      "text/html": [
       "<div>\n",
       "<style scoped>\n",
       "    .dataframe tbody tr th:only-of-type {\n",
       "        vertical-align: middle;\n",
       "    }\n",
       "\n",
       "    .dataframe tbody tr th {\n",
       "        vertical-align: top;\n",
       "    }\n",
       "\n",
       "    .dataframe thead th {\n",
       "        text-align: right;\n",
       "    }\n",
       "</style>\n",
       "<table border=\"1\" class=\"dataframe\">\n",
       "  <thead>\n",
       "    <tr style=\"text-align: right;\">\n",
       "      <th></th>\n",
       "      <th>Unnamed: 0</th>\n",
       "    </tr>\n",
       "  </thead>\n",
       "  <tbody>\n",
       "    <tr>\n",
       "      <th>count</th>\n",
       "      <td>19856.000000</td>\n",
       "    </tr>\n",
       "    <tr>\n",
       "      <th>mean</th>\n",
       "      <td>9927.500000</td>\n",
       "    </tr>\n",
       "    <tr>\n",
       "      <th>std</th>\n",
       "      <td>5732.077808</td>\n",
       "    </tr>\n",
       "    <tr>\n",
       "      <th>min</th>\n",
       "      <td>0.000000</td>\n",
       "    </tr>\n",
       "    <tr>\n",
       "      <th>25%</th>\n",
       "      <td>4963.750000</td>\n",
       "    </tr>\n",
       "    <tr>\n",
       "      <th>50%</th>\n",
       "      <td>9927.500000</td>\n",
       "    </tr>\n",
       "    <tr>\n",
       "      <th>75%</th>\n",
       "      <td>14891.250000</td>\n",
       "    </tr>\n",
       "    <tr>\n",
       "      <th>max</th>\n",
       "      <td>19855.000000</td>\n",
       "    </tr>\n",
       "  </tbody>\n",
       "</table>\n",
       "</div>"
      ],
      "text/plain": [
       "         Unnamed: 0\n",
       "count  19856.000000\n",
       "mean    9927.500000\n",
       "std     5732.077808\n",
       "min        0.000000\n",
       "25%     4963.750000\n",
       "50%     9927.500000\n",
       "75%    14891.250000\n",
       "max    19855.000000"
      ]
     },
     "execution_count": 9,
     "metadata": {},
     "output_type": "execute_result"
    }
   ],
   "source": [
    "urduData.describe()"
   ]
  },
  {
   "cell_type": "code",
   "execution_count": 10,
   "id": "a9acfa11",
   "metadata": {},
   "outputs": [],
   "source": [
    "urduData.to_csv(\"UrduDataV2.csv\")"
   ]
  },
  {
   "cell_type": "code",
   "execution_count": null,
   "id": "5c19bacd",
   "metadata": {},
   "outputs": [],
   "source": []
  }
 ],
 "metadata": {
  "kernelspec": {
   "display_name": "Python 3",
   "language": "python",
   "name": "python3"
  },
  "language_info": {
   "codemirror_mode": {
    "name": "ipython",
    "version": 3
   },
   "file_extension": ".py",
   "mimetype": "text/x-python",
   "name": "python",
   "nbconvert_exporter": "python",
   "pygments_lexer": "ipython3",
   "version": "3.8.8"
  }
 },
 "nbformat": 4,
 "nbformat_minor": 5
}
